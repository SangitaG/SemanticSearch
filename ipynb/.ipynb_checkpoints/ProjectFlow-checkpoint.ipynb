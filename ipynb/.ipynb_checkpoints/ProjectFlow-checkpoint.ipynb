{
 "cells": [
  {
   "cell_type": "markdown",
   "metadata": {},
   "source": [
    "How should pages be cleaned? If they should be cleaned?\n",
    "- BeautifulSoup\n",
    "- Regex\n",
    "- What comes out of a vectorizer?\n",
    "\n",
    "Getting it into Mongo\n",
    "- Insert one / insert many\n",
    "- Refer to josh's twitter lecture or Mongo documentation\n",
    "\n",
    "Vectorization\n",
    "- Pull everything from mongo. Combine into some kind of array / dataframe\n",
    "- fit a pipeline \n",
    "    - vectorizer\n",
    "    - truncated svd 500 components or so\n",
    "- Pickle and save pipeline\n",
    "\n",
    "Fetching query results\n",
    " - Transform using our prior pipeline\n",
    " - either have full vectorized corpus loaded for cosine with query or save vectorized versions of each document into mongo"
   ]
  },
  {
   "cell_type": "code",
   "execution_count": null,
   "metadata": {},
   "outputs": [],
   "source": []
  }
 ],
 "metadata": {
  "kernelspec": {
   "display_name": "Python 3",
   "language": "python",
   "name": "python3"
  },
  "language_info": {
   "codemirror_mode": {
    "name": "ipython",
    "version": 3
   },
   "file_extension": ".py",
   "mimetype": "text/x-python",
   "name": "python",
   "nbconvert_exporter": "python",
   "pygments_lexer": "ipython3",
   "version": "3.6.2"
  }
 },
 "nbformat": 4,
 "nbformat_minor": 2
}
