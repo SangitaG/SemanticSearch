{
 "cells": [
  {
   "cell_type": "code",
   "execution_count": 1,
   "metadata": {},
   "outputs": [
    {
     "name": "stdout",
     "output_type": "stream",
     "text": [
      "/home/jovyan/GA_DSI/Projects/project_4/semantic_search\n"
     ]
    }
   ],
   "source": [
    "# cd to directory above to access sub-directories.\n",
    "%cd .."
   ]
  },
  {
   "cell_type": "code",
   "execution_count": 2,
   "metadata": {},
   "outputs": [
    {
     "name": "stdout",
     "output_type": "stream",
     "text": [
      "\u001b[0m\u001b[01;34mdata\u001b[0m/  \u001b[01;34mipynb\u001b[0m/  \u001b[01;34mlib\u001b[0m/  README.md\r\n"
     ]
    }
   ],
   "source": [
    "%ls"
   ]
  },
  {
   "cell_type": "code",
   "execution_count": 3,
   "metadata": {},
   "outputs": [],
   "source": [
    "# Import my functions from \n",
    "import lib.wiki_utilities as wiki\n",
    "import lib.mongo_utilities as mongo\n",
    "import lib.general_utilities as gu\n",
    "from tqdm import tqdm"
   ]
  },
  {
   "cell_type": "code",
   "execution_count": 32,
   "metadata": {},
   "outputs": [
    {
     "name": "stdout",
     "output_type": "stream",
     "text": [
      "num pages:  1620 num categories:  62\n"
     ]
    }
   ],
   "source": [
    "print(\"num pages: \", pg_cnt, \"num categories: \", cat_cnt)"
   ]
  },
  {
   "cell_type": "code",
   "execution_count": 70,
   "metadata": {
    "scrolled": true
   },
   "outputs": [
    {
     "name": "stderr",
     "output_type": "stream",
     "text": [
      "100%|██████████| 1620/1620 [19:55<00:00,  1.36it/s]\n"
     ]
    }
   ],
   "source": [
    "# fetch wikipedia's 'category: machine learning' page content, \n",
    "# (do this for pages in its categories and subcategories).\n",
    "category = \"Category:Machine_learning\"\n",
    "cat_cnt = 1; pg_cnt = 0\n",
    "\n",
    "entire_category_data_list = wiki.get_wiki_full_category_content(category, tree_depth=5)"
   ]
  },
  {
   "cell_type": "code",
   "execution_count": 20,
   "metadata": {},
   "outputs": [],
   "source": [
    "ML_raw_collection = gu.read_pickle_obj('data/wiki_ML_rawtext_pages_lst.obj')"
   ]
  },
  {
   "cell_type": "code",
   "execution_count": 32,
   "metadata": {},
   "outputs": [
    {
     "data": {
      "text/plain": [
       "['admin', 'local', 'my_database', 'test', 'wiki_database']"
      ]
     },
     "execution_count": 32,
     "metadata": {},
     "output_type": "execute_result"
    }
   ],
   "source": [
    "# get database names on mongo server.\n",
    "mongo.mongoDB_get_DBnames()"
   ]
  },
  {
   "cell_type": "code",
   "execution_count": null,
   "metadata": {},
   "outputs": [],
   "source": [
    "# create a collection in the Mongo database for the ML content, retrieved from wikipedia.\n",
    "mongo.mongoDB_create_collection('wiki_database', 'wiki_ML_collection', entire_category_data_list)"
   ]
  },
  {
   "cell_type": "code",
   "execution_count": null,
   "metadata": {},
   "outputs": [],
   "source": [
    "# clean the retrieved text.\n",
    "ML_clean_text_content_list = gu.clean_text(entire_category_data_list)"
   ]
  },
  {
   "cell_type": "code",
   "execution_count": null,
   "metadata": {},
   "outputs": [],
   "source": [
    "# create a collection in the Mongo database for the cleaned BS content.\n",
    "mongo.mongoDB_create_collection('wiki_database', 'wiki_ML_clean_collection', ML_clean_text_content_list"
   ]
  },
  {
   "cell_type": "code",
   "execution_count": 40,
   "metadata": {},
   "outputs": [
    {
     "data": {
      "text/plain": [
       "['wiki_ML_collection', 'wiki_ML_clean_collection']"
      ]
     },
     "execution_count": 40,
     "metadata": {},
     "output_type": "execute_result"
    }
   ],
   "source": [
    "# get collection names on specified mongo db.\n",
    "mongo.mongoDB_get_collection_names('wiki_database')"
   ]
  },
  {
   "cell_type": "code",
   "execution_count": 6,
   "metadata": {},
   "outputs": [
    {
     "name": "stderr",
     "output_type": "stream",
     "text": [
      "100%|██████████| 4075/4075 [18:17<00:00,  3.71it/s]\n"
     ]
    }
   ],
   "source": [
    "# fetch wikipedia's 'category: Business software' page content. \n",
    "# (do this for pages in its categories and subcategories).\n",
    "category = \"Category:Business_software\"\n",
    "entire_category_data_list = wiki.get_wiki_full_category_content(category, tree_depth=2)"
   ]
  },
  {
   "cell_type": "code",
   "execution_count": 12,
   "metadata": {},
   "outputs": [
    {
     "name": "stderr",
     "output_type": "stream",
     "text": [
      "100%|██████████| 4075/4075 [02:45<00:00, 24.56it/s]\n"
     ]
    }
   ],
   "source": [
    "# create a collection in the Mongo database for the BS content, retrieved from wikipedia.\n",
    "mongo.mongoDB_create_collection('wiki_database', 'wiki_BS_collection', entire_category_data_list)"
   ]
  },
  {
   "cell_type": "code",
   "execution_count": 8,
   "metadata": {},
   "outputs": [
    {
     "name": "stderr",
     "output_type": "stream",
     "text": [
      "100%|██████████| 4075/4075 [00:00<00:00, 21952.04it/s]\n"
     ]
    }
   ],
   "source": [
    "# clean the retrieved text.\n",
    "BS_clean_text_content_list = gu.clean_text(entire_category_data_list)"
   ]
  },
  {
   "cell_type": "code",
   "execution_count": 13,
   "metadata": {},
   "outputs": [
    {
     "name": "stderr",
     "output_type": "stream",
     "text": [
      "100%|██████████| 4075/4075 [02:43<00:00, 24.99it/s]\n"
     ]
    }
   ],
   "source": [
    "# create a collection in the Mongo database for the cleaned BS content.\n",
    "mongo.mongoDB_create_collection('wiki_database', 'wiki_BS_clean_collection', BS_clean_text_content_list)"
   ]
  },
  {
   "cell_type": "code",
   "execution_count": 27,
   "metadata": {},
   "outputs": [
    {
     "data": {
      "text/plain": [
       "['wiki_BS_collection',\n",
       " 'wiki_ML_collection',\n",
       " 'wiki_ML_clean_collection',\n",
       " 'wiki_BS_clean_collection']"
      ]
     },
     "execution_count": 27,
     "metadata": {},
     "output_type": "execute_result"
    }
   ],
   "source": [
    "# get collection names on specified mongo db.\n",
    "mongoDB_get_collection_names('wiki_database')"
   ]
  },
  {
   "cell_type": "code",
   "execution_count": null,
   "metadata": {},
   "outputs": [],
   "source": [
    "# Remove duplicate entries and pickle data."
   ]
  },
  {
   "cell_type": "code",
   "execution_count": 4,
   "metadata": {},
   "outputs": [],
   "source": [
    "# get ML collection from mongoDB.\n",
    "ML_raw_collection = mongo.mongoDB_read_unique_pages_collection('wiki_database', 'wiki_ML_collection')\n",
    "\n",
    "# get clean text ML collection from mongoDB.\n",
    "ML_clean_collection = mongo.mongoDB_read_unique_pages_collection('wiki_database', 'wiki_ML_clean_collection')"
   ]
  },
  {
   "cell_type": "code",
   "execution_count": 5,
   "metadata": {},
   "outputs": [],
   "source": [
    "# get BS collection from mongoDB.\n",
    "BS_raw_collection = mongo.mongoDB_read_unique_pages_collection('wiki_database', 'wiki_BS_collection')\n",
    "\n",
    "# get clean text ML collection from mongoDB.\n",
    "BS_clean_collection = mongo.mongoDB_read_unique_pages_collection('wiki_database', 'wiki_BS_clean_collection')"
   ]
  },
  {
   "cell_type": "code",
   "execution_count": 6,
   "metadata": {},
   "outputs": [
    {
     "data": {
      "text/plain": [
       "(1104, 1104, 3020, 3020)"
      ]
     },
     "execution_count": 6,
     "metadata": {},
     "output_type": "execute_result"
    }
   ],
   "source": [
    "len(ML_raw_collection), len(ML_clean_collection), len(BS_raw_collection), len(BS_clean_collection)"
   ]
  },
  {
   "cell_type": "code",
   "execution_count": 12,
   "metadata": {},
   "outputs": [],
   "source": [
    "# pickle raw ML pages list.\n",
    "gu.pickle_obj('data/wiki_ML_rawtext_pages_lst.obj', ML_raw_collection)\n",
    "\n",
    "# pickle clean ML pages list.\n",
    "gu.pickle_obj('data/wiki_ML_cleantext_pages_lst.obj', ML_clean_collection)"
   ]
  },
  {
   "cell_type": "code",
   "execution_count": 13,
   "metadata": {},
   "outputs": [],
   "source": [
    "# pickle raw BS pages list.\n",
    "gu.pickle_obj('data/wiki_BS_rawtext_pages_lst.obj', BS_raw_collection)\n",
    "\n",
    "# pickle clean BS pages list.\n",
    "gu.pickle_obj('data/wiki_BS_cleantext_pages_lst.obj', BS_clean_collection)"
   ]
  },
  {
   "cell_type": "code",
   "execution_count": null,
   "metadata": {},
   "outputs": [],
   "source": []
  }
 ],
 "metadata": {
  "kernelspec": {
   "display_name": "Python 3",
   "language": "python",
   "name": "python3"
  },
  "language_info": {
   "codemirror_mode": {
    "name": "ipython",
    "version": 3
   },
   "file_extension": ".py",
   "mimetype": "text/x-python",
   "name": "python",
   "nbconvert_exporter": "python",
   "pygments_lexer": "ipython3",
   "version": "3.6.2"
  }
 },
 "nbformat": 4,
 "nbformat_minor": 2
}
