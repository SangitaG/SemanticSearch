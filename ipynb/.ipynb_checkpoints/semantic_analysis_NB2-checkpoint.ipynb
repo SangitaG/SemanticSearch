{
 "cells": [
  {
   "cell_type": "markdown",
   "metadata": {},
   "source": [
    "# Semantic Search\n",
    "\n",
    "## The Task\n",
    "The objective of this assignment is to engineer a novel wikipedia search engine using what you've learned about data collection, infrastructure, and natural language processing.\n",
    "\n",
    "The task has two **required sections:**\n",
    "- Data collection\n",
    "- Search algorithm development\n",
    "\n",
    "And one **optional section:** \n",
    "  - Predictive modeling\n",
    "\n",
    "![](http://interactive.blockdiag.com/image?compression=deflate&encoding=base64&src=eJxdjrsOwjAMRXe-wlsmRhaQkDoiMSDxBW5slahtHDmGCiH-nfQxtKy-59zruhPfUsAGPjsA56XvMdIRSIbYCZKD_RncENqQuGBQ3S7TidCwxsynjZUZ1T8m4HqvJlXZnhrBJMHBbWlTDHEeSFravYUXQy_E3TKrwbioMKb5z16UmRxfXZurVY_GjegbhqJIjaXm-wNmzE4W)\n",
    "\n",
    "### Part 1 -- Collection (required)\n",
    "\n",
    "We want you to query the wikipedia API and **collect all of the articles** under the following wikipedia categories:\n",
    "\n",
    "* [Machine Learning](https://en.wikipedia.org/wiki/Category:Machine_learning)\n",
    "* [Business Software](https://en.wikipedia.org/wiki/Category:Business_software)\n",
    "\n",
    "The raw page text and its category information should be written to a collection on a Mongo server running on a dedicated AWS instance.\n",
    "\n",
    "We want your code to be modular enough that any valid category from Wikipedia can be queried by your code. You are encouraged to exploit this modularity to pull additional wikipedia categories beyond ML and Business Software. As always, the more data the better. \n",
    "\n",
    "**Note:** Both \"Machine Learning\" and \"Business Software\" contain a heirarchy of nested sub-categories. Make sure that you pull every single page within each parent category, not just those directly beneath them. Take time to explore wikipedia's organization structure. It is up to you if you want to model this heirarchy anywhere within Mongo, otherwise flatten it by only recording the parent category associated with each page."
   ]
  },
  {
   "cell_type": "code",
   "execution_count": 2,
   "metadata": {},
   "outputs": [
    {
     "name": "stdout",
     "output_type": "stream",
     "text": [
      "/home/jovyan/GA_DSI/Projects/project_4/semantic_search\n"
     ]
    }
   ],
   "source": [
    "# cd to directory above to access sub-directories.\n",
    "%cd .."
   ]
  },
  {
   "cell_type": "code",
   "execution_count": 3,
   "metadata": {},
   "outputs": [
    {
     "name": "stdout",
     "output_type": "stream",
     "text": [
      "\u001b[0m\u001b[01;34mdata\u001b[0m/  \u001b[01;34mipynb\u001b[0m/  \u001b[01;34mlib\u001b[0m/  ProjectFlow.ipynb  README.md\r\n"
     ]
    }
   ],
   "source": [
    "%ls"
   ]
  },
  {
   "cell_type": "code",
   "execution_count": 3,
   "metadata": {},
   "outputs": [],
   "source": [
    "#!pip install pymongo"
   ]
  },
  {
   "cell_type": "code",
   "execution_count": 96,
   "metadata": {},
   "outputs": [],
   "source": [
    "# Import my functions from \n",
    "import lib.wiki_utilities as wiki\n",
    "import lib.mongo_utilities as mongo\n",
    "import lib.general_utilities as gu\n",
    "\n",
    "from sklearn.feature_extraction.text import TfidfVectorizer\n",
    "from sklearn.decomposition import TruncatedSVD\n",
    "from sklearn.metrics.pairwise import cosine_similarity\n",
    "import pandas as pd\n",
    "import numpy as np\n",
    "import matplotlib.pyplot as plt\n",
    "from tqdm import tqdm\n",
    "from IPython.core.display import display, HTML\n",
    "\n",
    "%matplotlib inline"
   ]
  },
  {
   "cell_type": "code",
   "execution_count": 39,
   "metadata": {},
   "outputs": [],
   "source": [
    "# read pickled 'Machine Learning' category collection of pages and contents.\n",
    "ML_clean_collection_lst = gu.read_pickle_obj('data/wiki_ML_cleantext_pages_lst.obj')\n",
    "\n",
    "# read pickled 'Business Software' category collection of pages and contents.\n",
    "BS_clean_collection_lst = gu.read_pickle_obj('data/wiki_BS_cleantext_pages_lst.obj')"
   ]
  },
  {
   "cell_type": "code",
   "execution_count": 41,
   "metadata": {},
   "outputs": [],
   "source": [
    "# put ML and BS collections in dataframes.\n",
    "ML_collection_df = pd.DataFrame(ML_clean_collection_lst)\n",
    "BS_collection_df = pd.DataFrame(BS_clean_collection_lst)"
   ]
  },
  {
   "cell_type": "code",
   "execution_count": 14,
   "metadata": {},
   "outputs": [
    {
     "data": {
      "text/html": [
       "<div>\n",
       "<table border=\"1\" class=\"dataframe\">\n",
       "  <thead>\n",
       "    <tr style=\"text-align: right;\">\n",
       "      <th></th>\n",
       "      <th>_id</th>\n",
       "      <th>pageid</th>\n",
       "      <th>text</th>\n",
       "      <th>title</th>\n",
       "    </tr>\n",
       "  </thead>\n",
       "  <tbody>\n",
       "    <tr>\n",
       "      <th>0</th>\n",
       "      <td>5a0ee924b1ec8c044b037a47</td>\n",
       "      <td>43385931</td>\n",
       "      <td>Data exploration is an approach similar to ini...</td>\n",
       "      <td>Data exploration</td>\n",
       "    </tr>\n",
       "    <tr>\n",
       "      <th>1</th>\n",
       "      <td>5a0ee924b1ec8c044b037a48</td>\n",
       "      <td>49082762</td>\n",
       "      <td>These datasets are used for machine-learning r...</td>\n",
       "      <td>List of datasets for machine learning research</td>\n",
       "    </tr>\n",
       "    <tr>\n",
       "      <th>2</th>\n",
       "      <td>5a0ee924b1ec8c044b037a49</td>\n",
       "      <td>233488</td>\n",
       "      <td>Machine learning is a field of computer scienc...</td>\n",
       "      <td>Machine learning</td>\n",
       "    </tr>\n",
       "    <tr>\n",
       "      <th>3</th>\n",
       "      <td>5a0ee924b1ec8c044b037a4a</td>\n",
       "      <td>53587467</td>\n",
       "      <td>The following outline is provided as an overvi...</td>\n",
       "      <td>Outline of machine learning</td>\n",
       "    </tr>\n",
       "  </tbody>\n",
       "</table>\n",
       "</div>"
      ],
      "text/plain": [
       "                        _id    pageid  \\\n",
       "0  5a0ee924b1ec8c044b037a47  43385931   \n",
       "1  5a0ee924b1ec8c044b037a48  49082762   \n",
       "2  5a0ee924b1ec8c044b037a49    233488   \n",
       "3  5a0ee924b1ec8c044b037a4a  53587467   \n",
       "\n",
       "                                                text  \\\n",
       "0  Data exploration is an approach similar to ini...   \n",
       "1  These datasets are used for machine-learning r...   \n",
       "2  Machine learning is a field of computer scienc...   \n",
       "3  The following outline is provided as an overvi...   \n",
       "\n",
       "                                            title  \n",
       "0                                Data exploration  \n",
       "1  List of datasets for machine learning research  \n",
       "2                                Machine learning  \n",
       "3                     Outline of machine learning  "
      ]
     },
     "execution_count": 14,
     "metadata": {},
     "output_type": "execute_result"
    }
   ],
   "source": [
    "ML_collection_df.head(4)"
   ]
  },
  {
   "cell_type": "code",
   "execution_count": 9,
   "metadata": {},
   "outputs": [
    {
     "data": {
      "text/plain": [
       "(1104, 4)"
      ]
     },
     "execution_count": 9,
     "metadata": {},
     "output_type": "execute_result"
    }
   ],
   "source": [
    "# size of ML collection.\n",
    "ML_collection_df.shape"
   ]
  },
  {
   "cell_type": "code",
   "execution_count": 42,
   "metadata": {},
   "outputs": [],
   "source": [
    "# drop the '_id' category. \n",
    "ML_collection_df.drop('_id', axis=1, inplace=True)"
   ]
  },
  {
   "cell_type": "code",
   "execution_count": 15,
   "metadata": {},
   "outputs": [
    {
     "data": {
      "text/html": [
       "<div>\n",
       "<table border=\"1\" class=\"dataframe\">\n",
       "  <thead>\n",
       "    <tr style=\"text-align: right;\">\n",
       "      <th></th>\n",
       "      <th>_id</th>\n",
       "      <th>pageid</th>\n",
       "      <th>text</th>\n",
       "      <th>title</th>\n",
       "    </tr>\n",
       "  </thead>\n",
       "  <tbody>\n",
       "    <tr>\n",
       "      <th>0</th>\n",
       "      <td>5a0ee924b1ec8c044b037a47</td>\n",
       "      <td>43385931</td>\n",
       "      <td>Data exploration is an approach similar to ini...</td>\n",
       "      <td>Data exploration</td>\n",
       "    </tr>\n",
       "  </tbody>\n",
       "</table>\n",
       "</div>"
      ],
      "text/plain": [
       "                        _id    pageid  \\\n",
       "0  5a0ee924b1ec8c044b037a47  43385931   \n",
       "\n",
       "                                                text             title  \n",
       "0  Data exploration is an approach similar to ini...  Data exploration  "
      ]
     },
     "execution_count": 15,
     "metadata": {},
     "output_type": "execute_result"
    }
   ],
   "source": [
    "ML_collection_df.head(1)"
   ]
  },
  {
   "cell_type": "code",
   "execution_count": 16,
   "metadata": {},
   "outputs": [
    {
     "data": {
      "text/plain": [
       "'Data exploration is an approach similar to initial data analysis, whereby a data analyst uses visual exploration to understand what is in a dataset and the characteristics of the data, rather than through traditional data management systems. These characteristics can include size or amount of data, completeness of the data, correctness of the data, possible relationships amongst data elements or files/tables in the data.Data exploration is typically conducted using a combination of automated and'"
      ]
     },
     "execution_count": 16,
     "metadata": {},
     "output_type": "execute_result"
    }
   ],
   "source": [
    "# Look at the page.\n",
    "ML_collection_df.text[0][:500]"
   ]
  },
  {
   "cell_type": "code",
   "execution_count": 12,
   "metadata": {},
   "outputs": [
    {
     "data": {
      "text/plain": [
       "(3020, 4)"
      ]
     },
     "execution_count": 12,
     "metadata": {},
     "output_type": "execute_result"
    }
   ],
   "source": [
    "# size of BS collection.\n",
    "BS_collection_df.shape"
   ]
  },
  {
   "cell_type": "code",
   "execution_count": 13,
   "metadata": {},
   "outputs": [
    {
     "data": {
      "text/html": [
       "<div>\n",
       "<table border=\"1\" class=\"dataframe\">\n",
       "  <thead>\n",
       "    <tr style=\"text-align: right;\">\n",
       "      <th></th>\n",
       "      <th>_id</th>\n",
       "      <th>pageid</th>\n",
       "      <th>text</th>\n",
       "      <th>title</th>\n",
       "    </tr>\n",
       "  </thead>\n",
       "  <tbody>\n",
       "    <tr>\n",
       "      <th>0</th>\n",
       "      <td>5a10ca31b1ec8c010121baa5</td>\n",
       "      <td>1037763</td>\n",
       "      <td>Business software or a business application is...</td>\n",
       "      <td>Business software</td>\n",
       "    </tr>\n",
       "    <tr>\n",
       "      <th>1</th>\n",
       "      <td>5a10ca31b1ec8c010121baa6</td>\n",
       "      <td>41270069</td>\n",
       "      <td>AccuSystems LLC is an American company headqua...</td>\n",
       "      <td>AccuSystems</td>\n",
       "    </tr>\n",
       "    <tr>\n",
       "      <th>2</th>\n",
       "      <td>5a10ca31b1ec8c010121baa7</td>\n",
       "      <td>5211212</td>\n",
       "      <td>Active policy management is business-oriented ...</td>\n",
       "      <td>Active policy management</td>\n",
       "    </tr>\n",
       "    <tr>\n",
       "      <th>3</th>\n",
       "      <td>5a10ca31b1ec8c010121baa8</td>\n",
       "      <td>28502793</td>\n",
       "      <td>Alexandria is browser based cross-platform lib...</td>\n",
       "      <td>Alexandria (library software)</td>\n",
       "    </tr>\n",
       "  </tbody>\n",
       "</table>\n",
       "</div>"
      ],
      "text/plain": [
       "                        _id    pageid  \\\n",
       "0  5a10ca31b1ec8c010121baa5   1037763   \n",
       "1  5a10ca31b1ec8c010121baa6  41270069   \n",
       "2  5a10ca31b1ec8c010121baa7   5211212   \n",
       "3  5a10ca31b1ec8c010121baa8  28502793   \n",
       "\n",
       "                                                text  \\\n",
       "0  Business software or a business application is...   \n",
       "1  AccuSystems LLC is an American company headqua...   \n",
       "2  Active policy management is business-oriented ...   \n",
       "3  Alexandria is browser based cross-platform lib...   \n",
       "\n",
       "                           title  \n",
       "0              Business software  \n",
       "1                    AccuSystems  \n",
       "2       Active policy management  \n",
       "3  Alexandria (library software)  "
      ]
     },
     "execution_count": 13,
     "metadata": {},
     "output_type": "execute_result"
    }
   ],
   "source": [
    "BS_collection_df.head(4)"
   ]
  },
  {
   "cell_type": "code",
   "execution_count": 43,
   "metadata": {},
   "outputs": [],
   "source": [
    "# drop the '_id' category. \n",
    "BS_collection_df.drop('_id', axis=1, inplace=True)"
   ]
  },
  {
   "cell_type": "code",
   "execution_count": 15,
   "metadata": {},
   "outputs": [
    {
     "data": {
      "text/html": [
       "<div>\n",
       "<table border=\"1\" class=\"dataframe\">\n",
       "  <thead>\n",
       "    <tr style=\"text-align: right;\">\n",
       "      <th></th>\n",
       "      <th>pageid</th>\n",
       "      <th>text</th>\n",
       "      <th>title</th>\n",
       "    </tr>\n",
       "  </thead>\n",
       "  <tbody>\n",
       "    <tr>\n",
       "      <th>0</th>\n",
       "      <td>1037763</td>\n",
       "      <td>Business software or a business application is...</td>\n",
       "      <td>Business software</td>\n",
       "    </tr>\n",
       "  </tbody>\n",
       "</table>\n",
       "</div>"
      ],
      "text/plain": [
       "    pageid                                               text  \\\n",
       "0  1037763  Business software or a business application is...   \n",
       "\n",
       "               title  \n",
       "0  Business software  "
      ]
     },
     "execution_count": 15,
     "metadata": {},
     "output_type": "execute_result"
    }
   ],
   "source": [
    "BS_collection_df.head(1)"
   ]
  },
  {
   "cell_type": "code",
   "execution_count": 13,
   "metadata": {},
   "outputs": [
    {
     "data": {
      "text/plain": [
       "'Business software or a business application is any software or set of computer programs used by business users to perform various business functions. These business applications are used to increase productivity, to measure productivity and to perform other business functions accurately.By and large, business software is likely to be developed to meet the needs of a specific business, and therefore is not easily transferable to a different business environment, unless its nature and operation is'"
      ]
     },
     "execution_count": 13,
     "metadata": {},
     "output_type": "execute_result"
    }
   ],
   "source": [
    "# Look at the page.\n",
    "BS_collection_df.text[0][:500]"
   ]
  },
  {
   "cell_type": "code",
   "execution_count": 44,
   "metadata": {},
   "outputs": [],
   "source": [
    "# make one dataframe with the ML and BS data.\n",
    "BS_ML_collection_df = pd.DataFrame(ML_clean_collection_lst + BS_clean_collection_lst)"
   ]
  },
  {
   "cell_type": "code",
   "execution_count": 45,
   "metadata": {},
   "outputs": [],
   "source": [
    "# drop the '_id' category. \n",
    "BS_ML_collection_df.drop('_id', axis=1, inplace=True)"
   ]
  },
  {
   "cell_type": "code",
   "execution_count": 46,
   "metadata": {},
   "outputs": [],
   "source": [
    "# pickle the aggregate dataframe.\n",
    "gu.pickle_obj('data/BS_ML_collection_df.obj', BS_ML_collection_df)"
   ]
  },
  {
   "cell_type": "code",
   "execution_count": 47,
   "metadata": {},
   "outputs": [],
   "source": [
    "# read the aggregate collection dataframe. \n",
    "BS_ML_collection_df = gu.read_pickle_obj('data/BS_ML_collection_df.obj')"
   ]
  },
  {
   "cell_type": "code",
   "execution_count": 48,
   "metadata": {},
   "outputs": [
    {
     "data": {
      "text/plain": [
       "(4124, 3)"
      ]
     },
     "execution_count": 48,
     "metadata": {},
     "output_type": "execute_result"
    }
   ],
   "source": [
    "# size of the aggregate corpus, with content from ML and BS pages.\n",
    "BS_ML_collection_df.shape"
   ]
  },
  {
   "cell_type": "markdown",
   "metadata": {},
   "source": [
    "**Latent semantic analysis (LSA)** is a technique in natural language processing, in particular distributional semantics, of analyzing relationships between a set of documents and the terms they contain by producing a set of concepts related to the documents and terms. LSA assumes that words that are close in meaning will occur in similar pieces of text (the distributional hypothesis). A matrix containing word counts per paragraph (rows represent unique words and columns represent each paragraph) is constructed from a large piece of text and a mathematical technique called singular value decomposition (SVD) is used to reduce the number of rows while preserving the similarity structure among columns. Words are then compared by taking the cosine of the angle between the two vectors (or the dot product between the normalizations of the two vectors) formed by any two rows. Values close to 1 represent very similar words while values close to 0 represent very dissimilar words."
   ]
  },
  {
   "cell_type": "code",
   "execution_count": 26,
   "metadata": {},
   "outputs": [],
   "source": [
    "#************** Latent Semantic Analysis = Document Term Matrix + SVD *******************"
   ]
  },
  {
   "cell_type": "code",
   "execution_count": 27,
   "metadata": {},
   "outputs": [],
   "source": [
    "# TFIDF text encoder.\n",
    "tfidf_vectorizer = TfidfVectorizer(min_df = 1, stop_words = 'english')"
   ]
  },
  {
   "cell_type": "code",
   "execution_count": 28,
   "metadata": {},
   "outputs": [],
   "source": [
    "# TFIDF encode the corpus of documents.\n",
    "# A matrix containing word counts per page.\n",
    "document_term_matrix = tfidf_vectorizer.fit_transform(BS_ML_collection_df['text'])"
   ]
  },
  {
   "cell_type": "code",
   "execution_count": 81,
   "metadata": {},
   "outputs": [],
   "source": [
    "# pickle document_term_matrix and tfidf transformer.\n",
    "gu.pickle_obj('data/tfidf_vectorizer_fit_transformed.obj', tfidf_vectorizer)\n",
    "gu.pickle_obj('data/document_term_matrix.obj', document_term_matrix)"
   ]
  },
  {
   "cell_type": "code",
   "execution_count": 5,
   "metadata": {},
   "outputs": [],
   "source": [
    "# read pickled document_term_matrix and tfidf transformer.\n",
    "tfidf_vectorizer = gu.read_pickle_obj('data/tfidf_vectorizer_fit_transformed.obj')\n",
    "document_term_matrix = gu.read_pickle_obj('data/document_term_matrix.obj')"
   ]
  },
  {
   "cell_type": "code",
   "execution_count": 30,
   "metadata": {},
   "outputs": [],
   "source": [
    "# singular value decomposition (SVD)\n",
    "# a mathematical technique called  is used to reduce the number of rows\n",
    "# while preserving the similarity structure among columns.\n",
    "SVD = TruncatedSVD(500)"
   ]
  },
  {
   "cell_type": "code",
   "execution_count": 31,
   "metadata": {},
   "outputs": [],
   "source": [
    "# SVD fit and transform the corpus data.\n",
    "SVD_corpus = SVD.fit_transform(document_term_matrix)"
   ]
  },
  {
   "cell_type": "code",
   "execution_count": 19,
   "metadata": {},
   "outputs": [],
   "source": [
    "# pickle SVD transformer and the SVD transformed corpus.\n",
    "gu.pickle_obj('data/SVD_500_fit_transformed.obj', SVD)\n",
    "gu.pickle_obj('data/SVD_corpus.obj', SVD_corpus)"
   ]
  },
  {
   "cell_type": "code",
   "execution_count": 6,
   "metadata": {},
   "outputs": [],
   "source": [
    "# read pickled SVD transformed corpus and SVD transformer.\n",
    "SVD = gu.read_pickle_obj('data/SVD_500_fit_transformed.obj')\n",
    "SVD_corpus = gu.read_pickle_obj('data/SVD_corpus.obj')"
   ]
  },
  {
   "cell_type": "code",
   "execution_count": 21,
   "metadata": {},
   "outputs": [
    {
     "data": {
      "text/plain": [
       "0.36871328044038826"
      ]
     },
     "execution_count": 21,
     "metadata": {},
     "output_type": "execute_result"
    }
   ],
   "source": [
    "sum(SVD.explained_variance_ratio_)"
   ]
  },
  {
   "cell_type": "code",
   "execution_count": 22,
   "metadata": {},
   "outputs": [
    {
     "data": {
      "text/plain": [
       "<matplotlib.legend.Legend at 0x7fb628503940>"
      ]
     },
     "execution_count": 22,
     "metadata": {},
     "output_type": "execute_result"
    },
    {
     "data": {
      "image/png": "[encoded data removed]",
      "text/plain": [
       "<matplotlib.figure.Figure at 0x7fb626a899e8>"
      ]
     },
     "metadata": {},
     "output_type": "display_data"
    }
   ],
   "source": [
    "plt.plot(range(500), np.cumsum(SVD.explained_variance_ratio_), label='cumulative explained variance')\n",
    "plt.title('SVD Truncate to 500 components')\n",
    "plt.legend()"
   ]
  },
  {
   "cell_type": "code",
   "execution_count": 34,
   "metadata": {},
   "outputs": [
    {
     "data": {
      "text/plain": [
       "[<matplotlib.lines.Line2D at 0x7f8d44620f60>]"
      ]
     },
     "execution_count": 34,
     "metadata": {},
     "output_type": "execute_result"
    },
    {
     "data": {
      "image/png": "[encoded data removed]",
      "text/plain": [
       "<matplotlib.figure.Figure at 0x7f8d454d8fd0>"
      ]
     },
     "metadata": {},
     "output_type": "display_data"
    }
   ],
   "source": [
    "plt.plot(SVD.explained_variance_ratio_)"
   ]
  },
  {
   "cell_type": "code",
   "execution_count": null,
   "metadata": {},
   "outputs": [],
   "source": [
    "# take a query and TFIDF transform then SVD transform.\n",
    "# should have transformed my query text into a 500 dimensional \n",
    "# vector (500 cols) then calculate the similarity of this transformed \n",
    "# query to the transfomed corpus."
   ]
  },
  {
   "cell_type": "code",
   "execution_count": 7,
   "metadata": {},
   "outputs": [],
   "source": [
    "query = \"stochastic time-series forecasting\""
   ]
  },
  {
   "cell_type": "code",
   "execution_count": 8,
   "metadata": {},
   "outputs": [],
   "source": [
    "# encode query, svd query, calculate the cosine simiarity of query to\n",
    "# the corpus data.\n",
    "tf_query = tfidf_vectorizer.transform([query])\n",
    "svd_query = SVD.transform(tf_query)\n",
    "cosine_sim_query_to_corpus = cosine_similarity(SVD_corpus, svd_query)"
   ]
  },
  {
   "cell_type": "code",
   "execution_count": 9,
   "metadata": {},
   "outputs": [
    {
     "data": {
      "text/plain": [
       "array([[ 0.00486655],\n",
       "       [-0.003097  ],\n",
       "       [ 0.01917968],\n",
       "       [ 0.05214104],\n",
       "       [ 0.0078121 ]])"
      ]
     },
     "execution_count": 9,
     "metadata": {},
     "output_type": "execute_result"
    }
   ],
   "source": [
    "cosine_sim_query_to_corpus[:5]"
   ]
  },
  {
   "cell_type": "code",
   "execution_count": 13,
   "metadata": {},
   "outputs": [
    {
     "data": {
      "text/plain": [
       "[814, 336, 902, 934, 935]"
      ]
     },
     "execution_count": 13,
     "metadata": {},
     "output_type": "execute_result"
    }
   ],
   "source": [
    "# find top 5 best matches.\n",
    "ind = cosine_sim_query_to_corpus.argsort(axis = 0)[::-1]\n",
    "\n",
    "top5_pages = [ind[i][0] for i in range(5)]\n",
    "top5_pages"
   ]
  },
  {
   "cell_type": "code",
   "execution_count": 53,
   "metadata": {},
   "outputs": [
    {
     "data": {
      "text/html": [
       "<div>\n",
       "<table border=\"1\" class=\"dataframe\">\n",
       "  <thead>\n",
       "    <tr style=\"text-align: right;\">\n",
       "      <th></th>\n",
       "      <th>pageid</th>\n",
       "      <th>text</th>\n",
       "      <th>title</th>\n",
       "    </tr>\n",
       "  </thead>\n",
       "  <tbody>\n",
       "    <tr>\n",
       "      <th>814</th>\n",
       "      <td>16369738</td>\n",
       "      <td>In statistics, a doubly stochastic model is a ...</td>\n",
       "      <td>Doubly stochastic model</td>\n",
       "    </tr>\n",
       "    <tr>\n",
       "      <th>336</th>\n",
       "      <td>2070605</td>\n",
       "      <td>Stochastic neural networks are a type of artif...</td>\n",
       "      <td>Stochastic neural network</td>\n",
       "    </tr>\n",
       "    <tr>\n",
       "      <th>902</th>\n",
       "      <td>11071463</td>\n",
       "      <td>In the mathematical theory of probability, the...</td>\n",
       "      <td>Entropy rate</td>\n",
       "    </tr>\n",
       "    <tr>\n",
       "      <th>934</th>\n",
       "      <td>39033720</td>\n",
       "      <td>Stochastic cellular automata or 'probabilistic...</td>\n",
       "      <td>Stochastic cellular automaton</td>\n",
       "    </tr>\n",
       "    <tr>\n",
       "      <th>935</th>\n",
       "      <td>217313</td>\n",
       "      <td>\"Transition matrix\" redirects here. For \"trans...</td>\n",
       "      <td>Stochastic matrix</td>\n",
       "    </tr>\n",
       "  </tbody>\n",
       "</table>\n",
       "</div>"
      ],
      "text/plain": [
       "       pageid                                               text  \\\n",
       "814  16369738  In statistics, a doubly stochastic model is a ...   \n",
       "336   2070605  Stochastic neural networks are a type of artif...   \n",
       "902  11071463  In the mathematical theory of probability, the...   \n",
       "934  39033720  Stochastic cellular automata or 'probabilistic...   \n",
       "935    217313  \"Transition matrix\" redirects here. For \"trans...   \n",
       "\n",
       "                             title  \n",
       "814        Doubly stochastic model  \n",
       "336      Stochastic neural network  \n",
       "902                   Entropy rate  \n",
       "934  Stochastic cellular automaton  \n",
       "935              Stochastic matrix  "
      ]
     },
     "execution_count": 53,
     "metadata": {},
     "output_type": "execute_result"
    }
   ],
   "source": [
    "# data for top 5 pages that best match the user query.\n",
    "selected_pgs_df = BS_ML_collection_df.loc[top5_pages, :]\n",
    "selected_pgs_df"
   ]
  },
  {
   "cell_type": "code",
   "execution_count": 55,
   "metadata": {},
   "outputs": [
    {
     "data": {
      "text/plain": [
       "array(['Doubly stochastic model', 'Stochastic neural network',\n",
       "       'Entropy rate', 'Stochastic cellular automaton', 'Stochastic matrix'], dtype=object)"
      ]
     },
     "execution_count": 55,
     "metadata": {},
     "output_type": "execute_result"
    }
   ],
   "source": [
    "page_titles = selected_pgs_df.title.values\n",
    "\n",
    "page_titles"
   ]
  },
  {
   "cell_type": "code",
   "execution_count": 101,
   "metadata": {},
   "outputs": [
    {
     "name": "stdout",
     "output_type": "stream",
     "text": [
      "Enter your wiki query: stochastic time-series forecasting\n",
      "\n",
      "Here are the top 5 wiki page links for query: stochastic time-series forecasting\n"
     ]
    },
    {
     "data": {
      "text/html": [
       "<a href='https://www.wikipedia.org/wiki/Doubly_stochastic_model' target='_blank'>Doubly stochastic model</a>"
      ],
      "text/plain": [
       "<IPython.core.display.HTML object>"
      ]
     },
     "metadata": {},
     "output_type": "display_data"
    },
    {
     "data": {
      "text/html": [
       "<a href='https://www.wikipedia.org/wiki/Stochastic_neural_network' target='_blank'>Stochastic neural network</a>"
      ],
      "text/plain": [
       "<IPython.core.display.HTML object>"
      ]
     },
     "metadata": {},
     "output_type": "display_data"
    },
    {
     "data": {
      "text/html": [
       "<a href='https://www.wikipedia.org/wiki/Entropy_rate' target='_blank'>Entropy rate</a>"
      ],
      "text/plain": [
       "<IPython.core.display.HTML object>"
      ]
     },
     "metadata": {},
     "output_type": "display_data"
    },
    {
     "data": {
      "text/html": [
       "<a href='https://www.wikipedia.org/wiki/Stochastic_cellular_automaton' target='_blank'>Stochastic cellular automaton</a>"
      ],
      "text/plain": [
       "<IPython.core.display.HTML object>"
      ]
     },
     "metadata": {},
     "output_type": "display_data"
    },
    {
     "data": {
      "text/html": [
       "<a href='https://www.wikipedia.org/wiki/Stochastic_matrix' target='_blank'>Stochastic matrix</a>"
      ],
      "text/plain": [
       "<IPython.core.display.HTML object>"
      ]
     },
     "metadata": {},
     "output_type": "display_data"
    }
   ],
   "source": [
    "query = input(\"Enter your wiki query: \")\n",
    "\n",
    "# encode query, svd query, calculate the cosine simiarity of query to\n",
    "# the corpus data\n",
    "tf_query = tfidf_vectorizer.transform([query])\n",
    "svd_query = SVD.transform(tf_query)\n",
    "cosine_sim_query_to_corpus = cosine_similarity(SVD_corpus, svd_query)\n",
    "\n",
    "# find the top 5 most similar pages for the query.\n",
    "ind = cosine_sim_query_to_corpus.argsort(axis = 0)[::-1]\n",
    "top5_pages = [ind[i][0] for i in range(5)]\n",
    "selected_pgs_df = BS_ML_collection_df.loc[top5_pages, :]\n",
    "page_titles = selected_pgs_df.title.values\n",
    "\n",
    "# display top 5 pages for the query, as weblinks.\n",
    "print(\"\\nHere are the top 5 wiki page links for your query: \")\n",
    "\n",
    "for pg_title in page_titles:\n",
    "    pg_title_no_sp = pg_title.replace(' ', '_')\n",
    "    \n",
    "    url=(\"<a href='https://www.wikipedia.org/wiki/\" +\n",
    "         pg_title_no_sp +\n",
    "         \"' target='_blank'>\" +\n",
    "         pg_title +\n",
    "         \"</a>\")\n",
    "\n",
    "    display(HTML(url))"
   ]
  },
  {
   "cell_type": "code",
   "execution_count": null,
   "metadata": {},
   "outputs": [],
   "source": []
  }
 ],
 "metadata": {
  "kernelspec": {
   "display_name": "Python 3",
   "language": "python",
   "name": "python3"
  },
  "language_info": {
   "codemirror_mode": {
    "name": "ipython",
    "version": 3
   },
   "file_extension": ".py",
   "mimetype": "text/x-python",
   "name": "python",
   "nbconvert_exporter": "python",
   "pygments_lexer": "ipython3",
   "version": "3.6.2"
  }
 },
 "nbformat": 4,
 "nbformat_minor": 2
}
