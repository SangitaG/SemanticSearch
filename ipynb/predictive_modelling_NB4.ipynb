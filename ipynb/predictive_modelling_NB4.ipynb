{
 "cells": [
  {
   "cell_type": "code",
   "execution_count": 4,
   "metadata": {},
   "outputs": [
    {
     "name": "stdout",
     "output_type": "stream",
     "text": [
      "/home/jovyan/GA_DSI/Projects/project_4/semantic_search\n"
     ]
    }
   ],
   "source": [
    "%cd .."
   ]
  },
  {
   "cell_type": "code",
   "execution_count": 5,
   "metadata": {},
   "outputs": [],
   "source": [
    "from sklearn.linear_model import LogisticRegression\n",
    "from sklearn.preprocessing import LabelEncoder\n",
    "from sklearn.model_selection import train_test_split\n",
    "from sklearn.metrics import classification_report,precision_recall_curve,confusion_matrix \n",
    "from sklearn.metrics import (precision_score,accuracy_score,roc_auc_score,roc_curve, \n",
    "                             precision_recall_curve,recall_score,make_scorer,auc) \n",
    "from collections import Counter\n",
    "import lib.general_utilities as gu\n",
    "import pandas as pd\n",
    "import numpy as np\n",
    "import matplotlib.pyplot as plt\n",
    "\n",
    "%matplotlib inline"
   ]
  },
  {
   "cell_type": "code",
   "execution_count": 6,
   "metadata": {},
   "outputs": [],
   "source": [
    "# make a predictive model to predict wiki category based on page title"
   ]
  },
  {
   "cell_type": "code",
   "execution_count": 7,
   "metadata": {},
   "outputs": [],
   "source": [
    "# read the aggregate collection dataframe. \n",
    "BS_ML_collection_df = gu.read_pickle_obj('data/BS_ML_collection_df.obj')"
   ]
  },
  {
   "cell_type": "code",
   "execution_count": 8,
   "metadata": {},
   "outputs": [
    {
     "data": {
      "text/plain": [
       "(4124, 5)"
      ]
     },
     "execution_count": 8,
     "metadata": {},
     "output_type": "execute_result"
    }
   ],
   "source": [
    "# First 1104 pages are Machine Learning category.\n",
    "# Last 3020 pages are Business Sotware category.\n",
    "BS_ML_collection_df.shape"
   ]
  },
  {
   "cell_type": "code",
   "execution_count": 9,
   "metadata": {},
   "outputs": [],
   "source": [
    "BS_ML_collection_df.drop(\"index\", axis=1, inplace=True)"
   ]
  },
  {
   "cell_type": "code",
   "execution_count": 10,
   "metadata": {},
   "outputs": [
    {
     "data": {
      "text/html": [
       "<div>\n",
       "<table border=\"1\" class=\"dataframe\">\n",
       "  <thead>\n",
       "    <tr style=\"text-align: right;\">\n",
       "      <th></th>\n",
       "      <th>pageid</th>\n",
       "      <th>text</th>\n",
       "      <th>title</th>\n",
       "      <th>category</th>\n",
       "    </tr>\n",
       "  </thead>\n",
       "  <tbody>\n",
       "    <tr>\n",
       "      <th>0</th>\n",
       "      <td>43385931</td>\n",
       "      <td>Data exploration is an approach similar to ini...</td>\n",
       "      <td>Data exploration</td>\n",
       "      <td>machine learning</td>\n",
       "    </tr>\n",
       "    <tr>\n",
       "      <th>1</th>\n",
       "      <td>49082762</td>\n",
       "      <td>These datasets are used for machine-learning r...</td>\n",
       "      <td>List of datasets for machine learning research</td>\n",
       "      <td>machine learning</td>\n",
       "    </tr>\n",
       "    <tr>\n",
       "      <th>2</th>\n",
       "      <td>233488</td>\n",
       "      <td>Machine learning is a field of computer scienc...</td>\n",
       "      <td>Machine learning</td>\n",
       "      <td>machine learning</td>\n",
       "    </tr>\n",
       "    <tr>\n",
       "      <th>3</th>\n",
       "      <td>53587467</td>\n",
       "      <td>The following outline is provided as an overvi...</td>\n",
       "      <td>Outline of machine learning</td>\n",
       "      <td>machine learning</td>\n",
       "    </tr>\n",
       "    <tr>\n",
       "      <th>4</th>\n",
       "      <td>3771060</td>\n",
       "      <td>The accuracy paradox for predictive analytics ...</td>\n",
       "      <td>Accuracy paradox</td>\n",
       "      <td>machine learning</td>\n",
       "    </tr>\n",
       "  </tbody>\n",
       "</table>\n",
       "</div>"
      ],
      "text/plain": [
       "     pageid                                               text  \\\n",
       "0  43385931  Data exploration is an approach similar to ini...   \n",
       "1  49082762  These datasets are used for machine-learning r...   \n",
       "2    233488  Machine learning is a field of computer scienc...   \n",
       "3  53587467  The following outline is provided as an overvi...   \n",
       "4   3771060  The accuracy paradox for predictive analytics ...   \n",
       "\n",
       "                                            title          category  \n",
       "0                                Data exploration  machine learning  \n",
       "1  List of datasets for machine learning research  machine learning  \n",
       "2                                Machine learning  machine learning  \n",
       "3                     Outline of machine learning  machine learning  \n",
       "4                                Accuracy paradox  machine learning  "
      ]
     },
     "execution_count": 10,
     "metadata": {},
     "output_type": "execute_result"
    }
   ],
   "source": [
    "BS_ML_collection_df.head()"
   ]
  },
  {
   "cell_type": "code",
   "execution_count": 11,
   "metadata": {},
   "outputs": [
    {
     "data": {
      "text/html": [
       "<div>\n",
       "<table border=\"1\" class=\"dataframe\">\n",
       "  <thead>\n",
       "    <tr style=\"text-align: right;\">\n",
       "      <th></th>\n",
       "      <th>pageid</th>\n",
       "      <th>text</th>\n",
       "      <th>title</th>\n",
       "      <th>category</th>\n",
       "    </tr>\n",
       "  </thead>\n",
       "  <tbody>\n",
       "    <tr>\n",
       "      <th>4119</th>\n",
       "      <td>27143309</td>\n",
       "      <td>Storyist is a creative writing application for...</td>\n",
       "      <td>Storyist</td>\n",
       "      <td>business software</td>\n",
       "    </tr>\n",
       "    <tr>\n",
       "      <th>4120</th>\n",
       "      <td>328705</td>\n",
       "      <td>Taste is a Macintosh word processor that combi...</td>\n",
       "      <td>Taste (software)</td>\n",
       "      <td>business software</td>\n",
       "    </tr>\n",
       "    <tr>\n",
       "      <th>4121</th>\n",
       "      <td>1577008</td>\n",
       "      <td>Ted is a word processor for the X Window Syste...</td>\n",
       "      <td>Ted (word processor)</td>\n",
       "      <td>business software</td>\n",
       "    </tr>\n",
       "    <tr>\n",
       "      <th>4122</th>\n",
       "      <td>37628014</td>\n",
       "      <td>The Thorn EMI Liberator was a laptop word proc...</td>\n",
       "      <td>Thorn EMI Liberator</td>\n",
       "      <td>business software</td>\n",
       "    </tr>\n",
       "    <tr>\n",
       "      <th>4123</th>\n",
       "      <td>29902828</td>\n",
       "      <td>Word Juggler was a word processor application ...</td>\n",
       "      <td>Word Juggler</td>\n",
       "      <td>business software</td>\n",
       "    </tr>\n",
       "  </tbody>\n",
       "</table>\n",
       "</div>"
      ],
      "text/plain": [
       "        pageid                                               text  \\\n",
       "4119  27143309  Storyist is a creative writing application for...   \n",
       "4120    328705  Taste is a Macintosh word processor that combi...   \n",
       "4121   1577008  Ted is a word processor for the X Window Syste...   \n",
       "4122  37628014  The Thorn EMI Liberator was a laptop word proc...   \n",
       "4123  29902828  Word Juggler was a word processor application ...   \n",
       "\n",
       "                     title           category  \n",
       "4119              Storyist  business software  \n",
       "4120      Taste (software)  business software  \n",
       "4121  Ted (word processor)  business software  \n",
       "4122   Thorn EMI Liberator  business software  \n",
       "4123          Word Juggler  business software  "
      ]
     },
     "execution_count": 11,
     "metadata": {},
     "output_type": "execute_result"
    }
   ],
   "source": [
    "BS_ML_collection_df.tail()"
   ]
  },
  {
   "cell_type": "code",
   "execution_count": 12,
   "metadata": {},
   "outputs": [],
   "source": [
    "# read in the wiki svd matrix, that will be our X matrix.\n",
    "wiki_svd_matrix = gu.read_pickle_obj('data/SVD_corpus.obj')"
   ]
  },
  {
   "cell_type": "code",
   "execution_count": 13,
   "metadata": {},
   "outputs": [],
   "source": [
    "# Set X \n",
    "X = wiki_svd_matrix"
   ]
  },
  {
   "cell_type": "code",
   "execution_count": 14,
   "metadata": {},
   "outputs": [],
   "source": [
    "# set y, the target 'category' needs to be numerically encoded. \n",
    "encoder = LabelEncoder()\n",
    "y = encoder.fit_transform(BS_ML_collection_df['category'])"
   ]
  },
  {
   "cell_type": "code",
   "execution_count": 15,
   "metadata": {},
   "outputs": [
    {
     "data": {
      "text/plain": [
       "Counter({0: 3020, 1: 1104})"
      ]
     },
     "execution_count": 15,
     "metadata": {},
     "output_type": "execute_result"
    }
   ],
   "source": [
    "# 'Business Software' encoded to 0, 'machine learning' encoded to 1.\n",
    "Counter(y)"
   ]
  },
  {
   "cell_type": "code",
   "execution_count": 16,
   "metadata": {},
   "outputs": [
    {
     "name": "stdout",
     "output_type": "stream",
     "text": [
      "********* Logistic Regression ********\n",
      "\n",
      "              precision    recall  f1-score   support\n",
      "\n",
      "   class BS       0.94      1.00      0.97       586\n",
      "   class ML       0.99      0.86      0.92       239\n",
      "\n",
      "avg / total       0.96      0.96      0.96       825\n",
      "\n"
     ]
    }
   ],
   "source": [
    "final_model_results = []\n",
    "target_names=['class BS', 'class ML']\n",
    "\n",
    "# train test split our X and y.\n",
    "Xtrain, Xtest, ytrain, ytest = train_test_split(X, y, test_size=.2, random_state=42)\n",
    "                                           \n",
    "# Fit and score Logistic Regression model.\n",
    "model = LogisticRegression()\n",
    "\n",
    "lr = model.fit(Xtrain, ytrain)\n",
    "lr.score(Xtrain, ytrain)\n",
    "lr.score(Xtest, ytest)\n",
    "\n",
    "# Mean accuracy score.\n",
    "train_score = lr.score(Xtrain,ytrain)\n",
    "test_score = lr.score(Xtest,ytest) \n",
    "y_pred = lr.predict(Xtest)\n",
    "\n",
    "# Calculate precision and recall.   \n",
    "recall = recall_score(ytest, y_pred)\n",
    "precision = precision_score(ytest, y_pred)\n",
    "\n",
    "output = {'train_acc_score': train_score, \n",
    "          'test_acc_score' : test_score, \n",
    "          'model_name' : 'Logistic Regression'}\n",
    "\n",
    "final_model_results.append(output)\n",
    "    \n",
    "#classification reports. \n",
    "class_report_LogReg_str = classification_report(ytest, y_pred, target_names=target_names)       \n",
    "print(\"********* Logistic Regression ********\\n\\n\", class_report_LogReg_str)"
   ]
  },
  {
   "cell_type": "code",
   "execution_count": 17,
   "metadata": {},
   "outputs": [
    {
     "data": {
      "text/html": [
       "<div>\n",
       "<table border=\"1\" class=\"dataframe\">\n",
       "  <thead>\n",
       "    <tr style=\"text-align: right;\">\n",
       "      <th></th>\n",
       "      <th>model_name</th>\n",
       "      <th>test_acc_score</th>\n",
       "      <th>train_acc_score</th>\n",
       "    </tr>\n",
       "  </thead>\n",
       "  <tbody>\n",
       "    <tr>\n",
       "      <th>0</th>\n",
       "      <td>Logistic Regression</td>\n",
       "      <td>0.956364</td>\n",
       "      <td>0.959079</td>\n",
       "    </tr>\n",
       "  </tbody>\n",
       "</table>\n",
       "</div>"
      ],
      "text/plain": [
       "            model_name  test_acc_score  train_acc_score\n",
       "0  Logistic Regression        0.956364         0.959079"
      ]
     },
     "execution_count": 17,
     "metadata": {},
     "output_type": "execute_result"
    }
   ],
   "source": [
    "pd.DataFrame(final_model_results)"
   ]
  },
  {
   "cell_type": "markdown",
   "metadata": {},
   "source": [
    "### From the precision, recall and accuracy metrics, we see that the logistic regression model performed very well in predicting the wiki category from the input text. "
   ]
  },
  {
   "cell_type": "markdown",
   "metadata": {},
   "source": [
    "## **Now let's take any wiki text from the corpus and see if it accurately predicts its category.**"
   ]
  },
  {
   "cell_type": "code",
   "execution_count": 19,
   "metadata": {},
   "outputs": [],
   "source": [
    "# read pickled tfidf transformer fit on the wiki corpus.\n",
    "tfidf_vectorizer = gu.read_pickle_obj('data/tfidf_vectorizer_fit_transformed.obj')"
   ]
  },
  {
   "cell_type": "code",
   "execution_count": 20,
   "metadata": {},
   "outputs": [],
   "source": [
    "# read pickled SVD transformer, fit on the wiki corpus.\n",
    "SVD = gu.read_pickle_obj('data/SVD_500_fit_transformed.obj')"
   ]
  },
  {
   "cell_type": "code",
   "execution_count": 2,
   "metadata": {},
   "outputs": [],
   "source": [
    "# This method predicts the category of the input text, with the input model. \n",
    "def predict_category(model, text):\n",
    "    \n",
    "    # Predict category - (category ML is 1 and category BS is 0)  \n",
    "    categories = {0:\"business software\", 1:\"machine learning\"}\n",
    "    \n",
    "    # LSA text by TFIDF + SVD transforming it.\n",
    "    tf_text = tfidf_vectorizer.transform([text])\n",
    "    svd_text = SVD.transform(tf_text)\n",
    "    \n",
    "    # predict category. Get [0] index since it returns as list. Don't know why.\n",
    "    pred = lr.predict(svd_text)[0]\n",
    "    \n",
    "    return(categories[pred])\n",
    "    "
   ]
  },
  {
   "cell_type": "code",
   "execution_count": 97,
   "metadata": {},
   "outputs": [],
   "source": [
    "# Store output results.\n",
    "predict_results = []"
   ]
  },
  {
   "cell_type": "code",
   "execution_count": 98,
   "metadata": {},
   "outputs": [],
   "source": [
    "# query text iterating through the list of pages we colleced from wikipedia and see if the model\n",
    "# correctly predicts the category from the page text.\n",
    "num_rows = BS_ML_collection_df.category.shape[0]\n",
    "\n",
    "for ind in range(0, num_rows, 50):\n",
    "    log = {'category': BS_ML_collection_df.category[ind], 'predicted_category':''}\n",
    "    query_text = BS_ML_collection_df.text[ind]\n",
    "    log['predicted_category'] = predict_category(lr, query_text)\n",
    "\n",
    "    predict_results.append(log)"
   ]
  },
  {
   "cell_type": "code",
   "execution_count": 101,
   "metadata": {},
   "outputs": [
    {
     "data": {
      "text/html": [
       "<div>\n",
       "<table border=\"1\" class=\"dataframe\">\n",
       "  <thead>\n",
       "    <tr style=\"text-align: right;\">\n",
       "      <th></th>\n",
       "      <th>category</th>\n",
       "      <th>predicted_category</th>\n",
       "    </tr>\n",
       "  </thead>\n",
       "  <tbody>\n",
       "    <tr>\n",
       "      <th>0</th>\n",
       "      <td>machine learning</td>\n",
       "      <td>machine learning</td>\n",
       "    </tr>\n",
       "    <tr>\n",
       "      <th>1</th>\n",
       "      <td>machine learning</td>\n",
       "      <td>machine learning</td>\n",
       "    </tr>\n",
       "    <tr>\n",
       "      <th>2</th>\n",
       "      <td>machine learning</td>\n",
       "      <td>machine learning</td>\n",
       "    </tr>\n",
       "    <tr>\n",
       "      <th>3</th>\n",
       "      <td>machine learning</td>\n",
       "      <td>business software</td>\n",
       "    </tr>\n",
       "    <tr>\n",
       "      <th>4</th>\n",
       "      <td>machine learning</td>\n",
       "      <td>business software</td>\n",
       "    </tr>\n",
       "    <tr>\n",
       "      <th>5</th>\n",
       "      <td>machine learning</td>\n",
       "      <td>machine learning</td>\n",
       "    </tr>\n",
       "    <tr>\n",
       "      <th>6</th>\n",
       "      <td>machine learning</td>\n",
       "      <td>business software</td>\n",
       "    </tr>\n",
       "    <tr>\n",
       "      <th>7</th>\n",
       "      <td>machine learning</td>\n",
       "      <td>business software</td>\n",
       "    </tr>\n",
       "    <tr>\n",
       "      <th>8</th>\n",
       "      <td>machine learning</td>\n",
       "      <td>machine learning</td>\n",
       "    </tr>\n",
       "    <tr>\n",
       "      <th>9</th>\n",
       "      <td>machine learning</td>\n",
       "      <td>machine learning</td>\n",
       "    </tr>\n",
       "  </tbody>\n",
       "</table>\n",
       "</div>"
      ],
      "text/plain": [
       "           category predicted_category\n",
       "0  machine learning   machine learning\n",
       "1  machine learning   machine learning\n",
       "2  machine learning   machine learning\n",
       "3  machine learning  business software\n",
       "4  machine learning  business software\n",
       "5  machine learning   machine learning\n",
       "6  machine learning  business software\n",
       "7  machine learning  business software\n",
       "8  machine learning   machine learning\n",
       "9  machine learning   machine learning"
      ]
     },
     "execution_count": 101,
     "metadata": {},
     "output_type": "execute_result"
    }
   ],
   "source": [
    "pred_df = pd.DataFrame(predict_results)\n",
    "pred_df.head(10)"
   ]
  },
  {
   "cell_type": "code",
   "execution_count": 99,
   "metadata": {},
   "outputs": [
    {
     "data": {
      "text/plain": [
       "0.9285714285714286"
      ]
     },
     "execution_count": 99,
     "metadata": {},
     "output_type": "execute_result"
    }
   ],
   "source": [
    "# calculate the accuracy of predicitons.\n",
    "accuracy = (pred_df['category'] == pred_df['predicted_category']).sum()/pred_df.shape[0]\n",
    "accuracy"
   ]
  },
  {
   "cell_type": "markdown",
   "metadata": {},
   "source": [
    "### The Logistic Regression model built predicts the category of the text with about 93% accuracy."
   ]
  },
  {
   "cell_type": "markdown",
   "metadata": {},
   "source": [
    "### When a new article from wikipedia comes along, <br>we would like to be able to predict what category the article should fall into."
   ]
  },
  {
   "cell_type": "code",
   "execution_count": null,
   "metadata": {},
   "outputs": [],
   "source": [
    "# I randomly copied and pasted pieces of text directly from wikipedia, \n",
    "# from very embedded subcategory pages, for the Business and Machine\n",
    "# Learning categories. "
   ]
  },
  {
   "cell_type": "code",
   "execution_count": null,
   "metadata": {},
   "outputs": [],
   "source": [
    "# query text from wikipedia business software nested subcategory to see what my model predicts."
   ]
  },
  {
   "cell_type": "code",
   "execution_count": 108,
   "metadata": {},
   "outputs": [],
   "source": [
    "# query text.\n",
    "query_text = '''Broadcast Markup Language, or BML, is an XML-based standard developed by Japan's Association of \n",
    "Radio Industries and Businesses as a data broadcasting specification for digital television broadcasting. It is a \n",
    "data-transmission service allowing text to be displayed on a 1seg TV screen.\n",
    "\n",
    "The text contains news, sports, weather forecasts, emergency warnings such as Earthquake Early Warning, etc.\n",
    "free of charge. It was finalized in 1999, becoming ARIB STD-B24 Data Coding and Transmission Specification for \n",
    "Digital Broadcasting.\n",
    "\n",
    "The STD-B24 specification is derived from an early draft of XHTML 1.0 strict, which it extends and alters. \n",
    "Some subset of CSS 1 and 2 is supported, as well as ECMAScript.'''"
   ]
  },
  {
   "cell_type": "code",
   "execution_count": 109,
   "metadata": {},
   "outputs": [
    {
     "data": {
      "text/plain": [
       "'business software'"
      ]
     },
     "execution_count": 109,
     "metadata": {},
     "output_type": "execute_result"
    }
   ],
   "source": [
    "predict_category(lr, query_text)"
   ]
  },
  {
   "cell_type": "code",
   "execution_count": 116,
   "metadata": {},
   "outputs": [],
   "source": [
    "query_text='''Cuneiform is an open-source workflow language for large-scale scientific data analysis.[1][2] It is\n",
    "a workflow DSL in the form of a functional programming language promoting parallelizable algorithmic skeletons.\n",
    "External tools and libraries, in, e.g., R or Python, can be integrated via a foreign function interface. \n",
    "Cuneiform's data-driven evaluation model and integration of external software originate in scientific workflow \n",
    "languages like Taverna, KNIME, or Galaxy while its algorithmic skeletons (second-order functions) for parallel\n",
    "execution originate in data-parallel programming models like MapReduce or Pig Latin. Cuneiform is implemented in \n",
    "Erlang, and therefore must run on an Erlang Virtual Machine (BEAM) similar to the way Java must run on a JVM \n",
    "(Java Virtual Machine). Cuneiform scripts can be executed on top of Hadoop.[3][4][5][6][7]'''"
   ]
  },
  {
   "cell_type": "code",
   "execution_count": 117,
   "metadata": {},
   "outputs": [
    {
     "data": {
      "text/plain": [
       "'business software'"
      ]
     },
     "execution_count": 117,
     "metadata": {},
     "output_type": "execute_result"
    }
   ],
   "source": [
    "predict_category(lr, query_text)"
   ]
  },
  {
   "cell_type": "code",
   "execution_count": null,
   "metadata": {},
   "outputs": [],
   "source": [
    "# query text from wikipedia machine learning nested subcategory to see what my model predicts."
   ]
  },
  {
   "cell_type": "code",
   "execution_count": 118,
   "metadata": {},
   "outputs": [],
   "source": [
    "# query text.\n",
    "query_text ='''Latent growth modeling is a statistical technique used in the structural equation modeling (SEM) \n",
    "framework to estimate growth trajectory. It is a longitudinal analysis technique to estimate growth over a period \n",
    "of time. It is widely used in the field of behavioral science, education and social science. It is also called \n",
    "latent growth curve analysis. The latent growth model was derived from theories of SEM. General purpose SEM \n",
    "software, such as OpenMx, lavaan (both open source packages based in R), AMOS, Mplus, LISREL, or EQS among others\n",
    "may be used to estimate the trajectory of growth.\n",
    "\n",
    "Latent Growth Models [1] [2] [3] [4] represent repeated measures of dependent variables as a function of time and \n",
    "other measures. Such longitudinal data share the features that the same subjects are observed repeatedly over time,\n",
    "and on the same tests (or parallel versions), and at known times. In latent growth modeling, the relative standing \n",
    "of an individual at each time is modeled as a function of an underlying growth process, with the best parameter \n",
    "values for that growth process being fitted to each individual.'''"
   ]
  },
  {
   "cell_type": "code",
   "execution_count": 119,
   "metadata": {},
   "outputs": [
    {
     "data": {
      "text/plain": [
       "'machine learning'"
      ]
     },
     "execution_count": 119,
     "metadata": {},
     "output_type": "execute_result"
    }
   ],
   "source": [
    "predict_category(lr, query_text)"
   ]
  },
  {
   "cell_type": "markdown",
   "metadata": {},
   "source": [
    "### As we can see above, the model predicts for the most part well on embedded subcategory text, I randomly got from wikipedia.<br> <br> <br>However as seen below, it mispredicts when I select a samaller amount of text, with more generalized words, for the machine learning category data."
   ]
  },
  {
   "cell_type": "code",
   "execution_count": null,
   "metadata": {},
   "outputs": [],
   "source": [
    "# I chose text from a very nested machine learning subcategory. It mispredicted \"business software\"."
   ]
  },
  {
   "cell_type": "code",
   "execution_count": 22,
   "metadata": {},
   "outputs": [
    {
     "name": "stdout",
     "output_type": "stream",
     "text": [
      "Enter wiki text:  is a biologically constrained theory of machine intelligence originally described in the 2004 book On Intelligence[1] by Jeff Hawkins with Sandra Blakeslee. HTM is based on neuroscience and the physiology and interaction of pyramidal neurons in the neocortex of the human brain. The technology has been tested and implemented in software through example applications from Numenta and commercial applications from Numenta’s partners.\n",
      "\n",
      "\n",
      "Predicted Wiki category:  business software\n"
     ]
    }
   ],
   "source": [
    "query_text = input(\"Enter wiki text: \")\n",
    "print(\"\\n\\nPredicted Wiki category: \", predict_category(lr, query_text))"
   ]
  },
  {
   "cell_type": "markdown",
   "metadata": {},
   "source": [
    "### For the business category, it seems to predict accurately. That may be because there was more training data available for this category and it seems to cover a wider spread of topics. "
   ]
  },
  {
   "cell_type": "code",
   "execution_count": 24,
   "metadata": {},
   "outputs": [
    {
     "name": "stdout",
     "output_type": "stream",
     "text": [
      "Enter wiki text: From 1985 onward, ADP’s annual revenues exceeded the $1 billion mark, with paychecks processed for about 20% of the U.S. workforce. In the 1990s, ADP began acting as a professional employer organization (PEO). Around this time, the company acquired Autonom, a German company and the payroll and human resource services company, GSI, headquartered in Paris.[6] In September 1998, ADP acquired UK-based Chessington Computer Centre that supplied administration services to the UK Government.[7]\n",
      "\n",
      "\n",
      "Predicted Wiki category:  business software\n"
     ]
    }
   ],
   "source": [
    "query_text = input(\"Enter wiki text: \")\n",
    "print(\"\\n\\nPredicted Wiki category: \", predict_category(lr, query_text))"
   ]
  },
  {
   "cell_type": "code",
   "execution_count": null,
   "metadata": {},
   "outputs": [],
   "source": []
  }
 ],
 "metadata": {
  "kernelspec": {
   "display_name": "Python 3",
   "language": "python",
   "name": "python3"
  },
  "language_info": {
   "codemirror_mode": {
    "name": "ipython",
    "version": 3
   },
   "file_extension": ".py",
   "mimetype": "text/x-python",
   "name": "python",
   "nbconvert_exporter": "python",
   "pygments_lexer": "ipython3",
   "version": "3.6.2"
  }
 },
 "nbformat": 4,
 "nbformat_minor": 2
}
