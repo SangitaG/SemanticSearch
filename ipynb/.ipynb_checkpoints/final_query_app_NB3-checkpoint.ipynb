{
 "cells": [
  {
   "cell_type": "code",
   "execution_count": 1,
   "metadata": {},
   "outputs": [
    {
     "name": "stdout",
     "output_type": "stream",
     "text": [
      "/home/jovyan/GA_DSI/Projects/project_4/semantic_search\n"
     ]
    }
   ],
   "source": [
    "# cd to directory above to access sub-directories.\n",
    "%cd .."
   ]
  },
  {
   "cell_type": "code",
   "execution_count": 2,
   "metadata": {},
   "outputs": [
    {
     "name": "stdout",
     "output_type": "stream",
     "text": [
      "\u001b[0m\u001b[01;34mdata\u001b[0m/  finalqueryapp.py  \u001b[01;34mipynb\u001b[0m/  \u001b[01;34mlib\u001b[0m/  README.md  untitled\r\n"
     ]
    }
   ],
   "source": [
    "%ls"
   ]
  },
  {
   "cell_type": "code",
   "execution_count": 3,
   "metadata": {},
   "outputs": [],
   "source": [
    "# Import my functions from \n",
    "import lib.wiki_utilities as wiki\n",
    "import lib.mongo_utilities as mongo\n",
    "import lib.general_utilities as gu\n",
    "\n",
    "from sklearn.decomposition import TruncatedSVD\n",
    "from sklearn.feature_extraction.text import TfidfVectorizer\n",
    "from sklearn.metrics.pairwise import cosine_similarity\n",
    "import pandas as pd\n",
    "import numpy as np\n",
    "import matplotlib.pyplot as plt\n",
    "from tqdm import tqdm\n",
    "import time\n",
    "from IPython.core.display import display, HTML\n",
    "\n",
    "%matplotlib inline"
   ]
  },
  {
   "cell_type": "markdown",
   "metadata": {},
   "source": [
    "### Read pickled data"
   ]
  },
  {
   "cell_type": "code",
   "execution_count": 4,
   "metadata": {},
   "outputs": [],
   "source": [
    "# read the aggregate collection dataframe. \n",
    "BS_ML_collection_df = gu.read_pickle_obj('data/BS_ML_collection_df.obj')\n",
    "\n",
    "# read pickled document_term_matrix and tfidf transformer.\n",
    "tfidf_vectorizer = gu.read_pickle_obj('data/tfidf_vectorizer_fit_transformed.obj')\n",
    "document_term_matrix = gu.read_pickle_obj('data/document_term_matrix.obj')\n",
    "\n",
    "# read pickled SVD transformed corpus and SVD transformer.\n",
    "SVD = gu.read_pickle_obj('data/SVD_500_fit_transformed.obj')\n",
    "SVD_corpus = gu.read_pickle_obj('data/SVD_corpus.obj')"
   ]
  },
  {
   "cell_type": "markdown",
   "metadata": {},
   "source": [
    "### Final Query App"
   ]
  },
  {
   "cell_type": "code",
   "execution_count": 5,
   "metadata": {},
   "outputs": [],
   "source": [
    "def run_query_app():\n",
    "    query = input(\"\\nType wiki query(q to exit): \")\n",
    "    while(query != 'q'):\n",
    "\n",
    "        # encode query, svd query, calculate the cosine simiarity of query to\n",
    "        # the corpus data\n",
    "        tf_query = tfidf_vectorizer.transform([query])\n",
    "        svd_query = SVD.transform(tf_query)\n",
    "        cosine_sim_query_to_corpus = cosine_similarity(SVD_corpus, svd_query)\n",
    "\n",
    "        # find the top 5 most similar pages for the query.\n",
    "        ind = cosine_sim_query_to_corpus.argsort(axis = 0)[::-1]\n",
    "        top5_pages = [ind[i][0] for i in range(5)]\n",
    "        selected_pgs_df = BS_ML_collection_df.loc[top5_pages, :]\n",
    "        page_titles = selected_pgs_df.title.values\n",
    "\n",
    "        # display top 5 pages for the query, as weblinks.\n",
    "        print(\"\\nHere are the top 5 wiki page links for your query: \")\n",
    "\n",
    "        for pg_title in page_titles:\n",
    "            pg_title_no_sp = pg_title.replace(' ', '_')\n",
    "\n",
    "            url=(\"<a href='https://www.wikipedia.org/wiki/\" +\n",
    "                 pg_title_no_sp +\n",
    "                 \"' target='_blank'>\" +\n",
    "                 pg_title +\n",
    "                 \"</a>\")\n",
    "\n",
    "            display(HTML(url))\n",
    "\n",
    "        time.sleep(0.1) # Time in seconds.    \n",
    "        query = input(\"\\nEnter wiki query(q to exit): \")"
   ]
  },
  {
   "cell_type": "code",
   "execution_count": 14,
   "metadata": {},
   "outputs": [
    {
     "name": "stdout",
     "output_type": "stream",
     "text": [
      "\n",
      "Type wiki query(q to exit): stochastic time-series forecasting\n",
      "\n",
      "Here are the top 5 wiki page links for your query: \n"
     ]
    },
    {
     "data": {
      "text/html": [
       "<a href='https://www.wikipedia.org/wiki/Doubly_stochastic_model' target='_blank'>Doubly stochastic model</a>"
      ],
      "text/plain": [
       "<IPython.core.display.HTML object>"
      ]
     },
     "metadata": {},
     "output_type": "display_data"
    },
    {
     "data": {
      "text/html": [
       "<a href='https://www.wikipedia.org/wiki/Stochastic_neural_network' target='_blank'>Stochastic neural network</a>"
      ],
      "text/plain": [
       "<IPython.core.display.HTML object>"
      ]
     },
     "metadata": {},
     "output_type": "display_data"
    },
    {
     "data": {
      "text/html": [
       "<a href='https://www.wikipedia.org/wiki/Entropy_rate' target='_blank'>Entropy rate</a>"
      ],
      "text/plain": [
       "<IPython.core.display.HTML object>"
      ]
     },
     "metadata": {},
     "output_type": "display_data"
    },
    {
     "data": {
      "text/html": [
       "<a href='https://www.wikipedia.org/wiki/Stochastic_cellular_automaton' target='_blank'>Stochastic cellular automaton</a>"
      ],
      "text/plain": [
       "<IPython.core.display.HTML object>"
      ]
     },
     "metadata": {},
     "output_type": "display_data"
    },
    {
     "data": {
      "text/html": [
       "<a href='https://www.wikipedia.org/wiki/Stochastic_matrix' target='_blank'>Stochastic matrix</a>"
      ],
      "text/plain": [
       "<IPython.core.display.HTML object>"
      ]
     },
     "metadata": {},
     "output_type": "display_data"
    },
    {
     "name": "stdout",
     "output_type": "stream",
     "text": [
      "\n",
      "Enter wiki query(q to exit): machine learning decision tree\n",
      "\n",
      "Here are the top 5 wiki page links for your query: \n"
     ]
    },
    {
     "data": {
      "text/html": [
       "<a href='https://www.wikipedia.org/wiki/Decision_tree' target='_blank'>Decision tree</a>"
      ],
      "text/plain": [
       "<IPython.core.display.HTML object>"
      ]
     },
     "metadata": {},
     "output_type": "display_data"
    },
    {
     "data": {
      "text/html": [
       "<a href='https://www.wikipedia.org/wiki/Incremental_decision_tree' target='_blank'>Incremental decision tree</a>"
      ],
      "text/plain": [
       "<IPython.core.display.HTML object>"
      ]
     },
     "metadata": {},
     "output_type": "display_data"
    },
    {
     "data": {
      "text/html": [
       "<a href='https://www.wikipedia.org/wiki/Grafting_(decision_trees)' target='_blank'>Grafting (decision trees)</a>"
      ],
      "text/plain": [
       "<IPython.core.display.HTML object>"
      ]
     },
     "metadata": {},
     "output_type": "display_data"
    },
    {
     "data": {
      "text/html": [
       "<a href='https://www.wikipedia.org/wiki/Decision_tree_learning' target='_blank'>Decision tree learning</a>"
      ],
      "text/plain": [
       "<IPython.core.display.HTML object>"
      ]
     },
     "metadata": {},
     "output_type": "display_data"
    },
    {
     "data": {
      "text/html": [
       "<a href='https://www.wikipedia.org/wiki/Outline_of_machine_learning' target='_blank'>Outline of machine learning</a>"
      ],
      "text/plain": [
       "<IPython.core.display.HTML object>"
      ]
     },
     "metadata": {},
     "output_type": "display_data"
    },
    {
     "name": "stdout",
     "output_type": "stream",
     "text": [
      "\n",
      "Enter wiki query(q to exit): business software\n",
      "\n",
      "Here are the top 5 wiki page links for your query: \n"
     ]
    },
    {
     "data": {
      "text/html": [
       "<a href='https://www.wikipedia.org/wiki/Business_software' target='_blank'>Business software</a>"
      ],
      "text/plain": [
       "<IPython.core.display.HTML object>"
      ]
     },
     "metadata": {},
     "output_type": "display_data"
    },
    {
     "data": {
      "text/html": [
       "<a href='https://www.wikipedia.org/wiki/Business_suite' target='_blank'>Business suite</a>"
      ],
      "text/plain": [
       "<IPython.core.display.HTML object>"
      ]
     },
     "metadata": {},
     "output_type": "display_data"
    },
    {
     "data": {
      "text/html": [
       "<a href='https://www.wikipedia.org/wiki/Dynamic_Business_Modeling' target='_blank'>Dynamic Business Modeling</a>"
      ],
      "text/plain": [
       "<IPython.core.display.HTML object>"
      ]
     },
     "metadata": {},
     "output_type": "display_data"
    },
    {
     "data": {
      "text/html": [
       "<a href='https://www.wikipedia.org/wiki/Small_business_software' target='_blank'>Small business software</a>"
      ],
      "text/plain": [
       "<IPython.core.display.HTML object>"
      ]
     },
     "metadata": {},
     "output_type": "display_data"
    },
    {
     "data": {
      "text/html": [
       "<a href='https://www.wikipedia.org/wiki/Passport_Software' target='_blank'>Passport Software</a>"
      ],
      "text/plain": [
       "<IPython.core.display.HTML object>"
      ]
     },
     "metadata": {},
     "output_type": "display_data"
    },
    {
     "name": "stdout",
     "output_type": "stream",
     "text": [
      "\n",
      "Enter wiki query(q to exit): q\n"
     ]
    }
   ],
   "source": [
    "run_query_app()"
   ]
  },
  {
   "cell_type": "code",
   "execution_count": 7,
   "metadata": {},
   "outputs": [],
   "source": [
    "run_query_app()"
   ]
  }
 ],
 "metadata": {
  "kernelspec": {
   "display_name": "Python 3",
   "language": "python",
   "name": "python3"
  },
  "language_info": {
   "codemirror_mode": {
    "name": "ipython",
    "version": 3
   },
   "file_extension": ".py",
   "mimetype": "text/x-python",
   "name": "python",
   "nbconvert_exporter": "python",
   "pygments_lexer": "ipython3",
   "version": "3.6.2"
  }
 },
 "nbformat": 4,
 "nbformat_minor": 2
}
